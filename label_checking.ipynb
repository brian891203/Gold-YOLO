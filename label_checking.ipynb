{
 "cells": [
  {
   "cell_type": "code",
   "execution_count": 1,
   "id": "15d5b89c",
   "metadata": {},
   "outputs": [
    {
     "name": "stdout",
     "output_type": "stream",
     "text": [
      "開始檢查目錄: C:\\Users\\User\\Desktop\\YOLO\\Gold-YOLO\\dataset\\coco\\labels\\train2017\n",
      "找到 117266 個標籤文件，開始檢查...\n"
     ]
    },
    {
     "name": "stderr",
     "output_type": "stream",
     "text": [
      "檢查標籤文件: 100%|██████████| 117266/117266 [14:07<00:00, 138.43it/s]"
     ]
    },
    {
     "name": "stdout",
     "output_type": "stream",
     "text": [
      "\n",
      "檢查完成。\n",
      "\n",
      "所有標籤文件格式和數值範圍看起來都正常。\n"
     ]
    },
    {
     "name": "stderr",
     "output_type": "stream",
     "text": [
      "\n"
     ]
    }
   ],
   "source": [
    "import os\n",
    "import glob\n",
    "from tqdm import tqdm\n",
    "\n",
    "# --- 配置 ---\n",
    "label_dir = r\"C:\\Users\\User\\Desktop\\YOLO\\Gold-YOLO\\dataset\\coco\\labels\\train2017\"  # 修改為您的標籤文件夾路徑\n",
    "num_classes = 80  # COCO 數據集的類別數\n",
    "# --- 配置結束 ---\n",
    "\n",
    "invalid_files = []\n",
    "invalid_lines_info = {} # 記錄有問題的行\n",
    "\n",
    "print(f\"開始檢查目錄: {label_dir}\")\n",
    "\n",
    "# 使用 glob 查找所有 .txt 文件\n",
    "label_files = glob.glob(os.path.join(label_dir, '*.txt'))\n",
    "\n",
    "if not label_files:\n",
    "    print(f\"錯誤：在 {label_dir} 中找不到任何 .txt 標籤文件。請檢查路徑。\")\n",
    "else:\n",
    "    print(f\"找到 {len(label_files)} 個標籤文件，開始檢查...\")\n",
    "    for file_path in tqdm(label_files, desc=\"檢查標籤文件\"):\n",
    "        file_has_issue = False\n",
    "        try:\n",
    "            with open(file_path, 'r') as f:\n",
    "                lines = f.readlines()\n",
    "                if not lines: # 檢查空文件\n",
    "                    print(f\"警告: 文件 {os.path.basename(file_path)} 為空。\")\n",
    "                    if file_path not in invalid_files:\n",
    "                        invalid_files.append(file_path)\n",
    "                    file_has_issue = True\n",
    "                    continue # 繼續檢查下一個文件\n",
    "\n",
    "                for i, line in enumerate(lines):\n",
    "                    line_num = i + 1\n",
    "                    parts = line.strip().split()\n",
    "                    line_issue = False\n",
    "                    error_msg = \"\"\n",
    "\n",
    "                    # 1. 檢查格式：是否為 5 個部分\n",
    "                    if len(parts) != 5:\n",
    "                        error_msg = f\"格式錯誤 (應有 5 個值，實際為 {len(parts)})\"\n",
    "                        line_issue = True\n",
    "                    else:\n",
    "                        try:\n",
    "                            # 2. 檢查數值類型和範圍\n",
    "                            class_id = int(parts[0])\n",
    "                            x_center = float(parts[1])\n",
    "                            y_center = float(parts[2])\n",
    "                            width = float(parts[3])\n",
    "                            height = float(parts[4])\n",
    "\n",
    "                            if not (0 <= class_id < num_classes):\n",
    "                                error_msg = f\"Class ID {class_id} 超出範圍 [0, {num_classes-1}]\"\n",
    "                                line_issue = True\n",
    "                            elif not (0.0 <= x_center <= 1.0):\n",
    "                                error_msg = f\"x_center {x_center} 超出範圍 [0, 1]\"\n",
    "                                line_issue = True\n",
    "                            elif not (0.0 <= y_center <= 1.0):\n",
    "                                error_msg = f\"y_center {y_center} 超出範圍 [0, 1]\"\n",
    "                                line_issue = True\n",
    "                            elif not (0.0 < width <= 1.0): # 寬度必須 > 0\n",
    "                                error_msg = f\"width {width} 無效 (必須 > 0 且 <= 1)\"\n",
    "                                line_issue = True\n",
    "                            elif not (0.0 < height <= 1.0): # 高度必須 > 0\n",
    "                                error_msg = f\"height {height} 無效 (必須 > 0 且 <= 1)\"\n",
    "                                line_issue = True\n",
    "                            # 可選：檢查邊界\n",
    "                            # elif x_center - width / 2 < 0 or x_center + width / 2 > 1 or \\\n",
    "                            #      y_center - height / 2 < 0 or y_center + height / 2 > 1:\n",
    "                            #     error_msg = f\"邊界框超出圖像範圍\"\n",
    "                            #     line_issue = True\n",
    "\n",
    "                        except ValueError:\n",
    "                            error_msg = \"數值轉換錯誤 (非數字?)\"\n",
    "                            line_issue = True\n",
    "\n",
    "                    if line_issue:\n",
    "                        file_has_issue = True\n",
    "                        if file_path not in invalid_lines_info:\n",
    "                            invalid_lines_info[file_path] = []\n",
    "                        invalid_lines_info[file_path].append(f\"  行 {line_num}: {line.strip()} -> {error_msg}\")\n",
    "\n",
    "            if file_has_issue and file_path not in invalid_files:\n",
    "                 invalid_files.append(file_path)\n",
    "\n",
    "        except Exception as e:\n",
    "            print(f\"\\n處理文件 {os.path.basename(file_path)} 時發生錯誤: {e}\")\n",
    "            if file_path not in invalid_files:\n",
    "                invalid_files.append(file_path)\n",
    "\n",
    "    print(\"\\n檢查完成。\")\n",
    "\n",
    "    if invalid_files:\n",
    "        print(f\"\\n發現 {len(invalid_files)} 個文件可能存在問題:\")\n",
    "        # 打印有問題的文件及具體行信息\n",
    "        for file_path in invalid_files:\n",
    "            print(f\"- {os.path.basename(file_path)}\")\n",
    "            if file_path in invalid_lines_info:\n",
    "                for line_info in invalid_lines_info[file_path]:\n",
    "                    print(line_info)\n",
    "            else:\n",
    "                 print(\"  (文件級別錯誤或為空)\") # 如果沒有行級別信息，說明是文件本身問題\n",
    "    else:\n",
    "        print(\"\\n所有標籤文件格式和數值範圍看起來都正常。\")\n"
   ]
  }
 ],
 "metadata": {
  "kernelspec": {
   "display_name": "master00",
   "language": "python",
   "name": "python3"
  },
  "language_info": {
   "name": "python",
   "version": "3.8.17"
  }
 },
 "nbformat": 4,
 "nbformat_minor": 5
}
